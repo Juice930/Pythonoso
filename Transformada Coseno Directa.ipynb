{
 "cells": [
  {
   "cell_type": "markdown",
   "metadata": {},
   "source": [
    "# Transformada Coseno Directa\n",
    "$$ImOut(i,j)=\\frac{1}{N} \\sum_{m=0}^{N-1} \\sum_{n=0}^{N-1}ImIn(m,n)\\cos\\left( \\frac{(2m+1)\\pi i}{2N}\\right) cos\\left( \\frac{(2m+1)\\pi j}{2N}\\right)$$\n",
    "Para i=0..N-1, j=0..N-1\n",
    "(Imágenes cuadradas)"
   ]
  },
  {
   "cell_type": "code",
   "execution_count": 1,
   "metadata": {
    "collapsed": false
   },
   "outputs": [],
   "source": [
    "import numpy as np\n",
    "import matplotlib.pyplot as plt"
   ]
  },
  {
   "cell_type": "code",
   "execution_count": null,
   "metadata": {
    "collapsed": false
   },
   "outputs": [],
   "source": [
    "ImIn=list()\n",
    "for i in range(8):\n",
    "    Aux=list()\n",
    "    for j in range(8):\n",
    "        Aux.append(j+i*8)\n",
    "    ImIn.append(Aux)\n",
    "print ImIn"
   ]
  },
  {
   "cell_type": "code",
   "execution_count": null,
   "metadata": {
    "collapsed": false
   },
   "outputs": [],
   "source": [
    "ImIn=[[0.]*8]*8\n",
    "ImOut=[[0]*8]*8\n",
    "print ImIn\n",
    "print ImOut"
   ]
  },
  {
   "cell_type": "code",
   "execution_count": null,
   "metadata": {
    "collapsed": false
   },
   "outputs": [],
   "source": [
    "from PIL import Image\n",
    "suma=0\n",
    "N=8\n",
    "ImIn=np.array([[256. for i in range(N)] for i in range(N)])\n",
    "#ImIn=np.array([[float(i+8*j)*4 for i in range(N)] for j in range(N)])\n",
    "plt.figure(1)\n",
    "plt.subplot(3,3,1)\n",
    "#ImIn=np.array([[0. for i in range(N)] for i in range(N)])\n",
    "ImOut=np.array([[0. for i in range(N)] for i in range(N)])\n",
    "plt.imshow(ImIn,'Greys')\n",
    "print ImIn\n",
    "print ImOut\n",
    "for i in range(N):\n",
    "    for j in range(N):\n",
    "        for a in range(N):\n",
    "            for b in range(N):\n",
    "                ImOut[i][j]+=(1./N)*ImIn[a][b]*np.cos((((2*a)+1)*np.pi*(i))/(2.*N))*np.cos((((2*b)+1)*np.pi*(j))/(2.*N))\n",
    "ImOut=np.round(ImOut,3)\n",
    "print \"ImOut\"\n",
    "print ImOut\n",
    "\n",
    "plt.imshow(ImOut,cmap='Greys_r')\n",
    "plt.show()\n",
    "plt.imshow(Transf(ImIn),cmap='Greys_r')\n",
    "plt.show()\n",
    "for i in range(N):\n",
    "    for j in range(N):\n",
    "        for a in range(N):\n",
    "            for b in range(N):\n",
    "                if a==0:\n",
    "                    if b==0:\n",
    "                        ImIn[i][j]+=1./(N)*ImOut[a][b]*np.cos((((2*i)+1)*np.pi*a)/(2.*N))*np.cos((((2*j)+1)*np.pi*b)/(2.*N))\n",
    "                    else:\n",
    "                        ImIn[i][j]+=1./(N)*2*ImOut[a][b]*np.cos((((2*i)+1)*np.pi*a)/(2.*N))*np.cos((((2*j)+1)*np.pi*b)/(2.*N))\n",
    "                else:\n",
    "                    if b==0:\n",
    "                        ImIn[i][j]+=1./(N)*2*ImOut[a][b]*np.cos((((2*i)+1)*np.pi*a)/(2.*N))*np.cos((((2*j)+1)*np.pi*b)/(2.*N))\n",
    "                    else:\n",
    "                        ImIn[i][j]+=1./(N)*4*ImOut[a][b]*np.cos((((2*i)+1)*np.pi*a)/(2.*N))*np.cos((((2*j)+1)*np.pi*b)/(2.*N))\n",
    "for i in range(N):\n",
    "    for j in range(N):\n",
    "        ImIn[i][j]=ImIn[i][j]/2.\n",
    "ImIn=np.round(ImIn,3)\n",
    "print ImIn"
   ]
  },
  {
   "cell_type": "code",
   "execution_count": null,
   "metadata": {
    "collapsed": false
   },
   "outputs": [],
   "source": [
    "from PIL import Image\n",
    "\n",
    "ImIn=np.array([[256. for i in range(N)] for i in range(N)])\n",
    "plt.figure(1)\n",
    "plt.subplot(1,3,1)\n",
    "ImOut=np.array([[0. for i in range(N)] for i in range(N)])\n",
    "plt.imshow(ImIn,'Greys')\n",
    "for i in range(N):\n",
    "    for j in range(N):\n",
    "        for a in range(N):\n",
    "            for b in range(N):\n",
    "                ImOut[i][j]+=(1./N)*ImIn[a][b]*np.cos((((2*a)+1)*np.pi*(i))/(2.*N))*np.cos((((2*b)+1)*np.pi*(j))/(2.*N))\n",
    "ImOut=np.round(ImOut,3)\n",
    "print \"ImIn\"\n",
    "print ImIn\n",
    "print \"ImOut\"\n",
    "print ImOut\n",
    "plt.subplot(1,3,2)\n",
    "plt.imshow(ImOut,cmap='Greys')\n",
    "plt.show()\n",
    "for i in range(N):\n",
    "    for j in range(N):\n",
    "        for a in range(N):\n",
    "            for b in range(N):\n",
    "                if a==0:\n",
    "                    if b==0:\n",
    "                        ImIn[i][j]+=1./(N)*ImOut[a][b]*np.cos((((2*i)+1)*np.pi*a)/(2.*N))*np.cos((((2*j)+1)*np.pi*b)/(2.*N))\n",
    "                    else:\n",
    "                        ImIn[i][j]+=1./(N)*2*ImOut[a][b]*np.cos((((2*i)+1)*np.pi*a)/(2.*N))*np.cos((((2*j)+1)*np.pi*b)/(2.*N))\n",
    "                else:\n",
    "                    if b==0:\n",
    "                        ImIn[i][j]+=1./(N)*2*ImOut[a][b]*np.cos((((2*i)+1)*np.pi*a)/(2.*N))*np.cos((((2*j)+1)*np.pi*b)/(2.*N))\n",
    "                    else:\n",
    "                        ImIn[i][j]+=1./(N)*4*ImOut[a][b]*np.cos((((2*i)+1)*np.pi*a)/(2.*N))*np.cos((((2*j)+1)*np.pi*b)/(2.*N))\n",
    "for i in range(N):\n",
    "    for j in range(N):\n",
    "        ImIn[i][j]=ImIn[i][j]/2.\n",
    "\n",
    "plt.subplot(1,3,3)\n",
    "ImIn=np.round(ImIn,3)\n",
    "plt.imshow(ImIn,cmap='Greys')\n",
    "print \"ImInR\"\n",
    "print ImIn"
   ]
  },
  {
   "cell_type": "code",
   "execution_count": 9,
   "metadata": {
    "collapsed": true
   },
   "outputs": [],
   "source": [
    "suma=0\n",
    "N=8\n",
    "def Transf(Mat,x,y):\n",
    "    Sal=np.array([[0. for i in range(x)] for i in range(y)])\n",
    "    for i in range(x):\n",
    "        for j in range(y):\n",
    "            for a in range(N):\n",
    "                for b in range(N):\n",
    "                    Sal[i][j]+=(1./N)*Mat[a][b]*np.cos((((2*a)+1)*np.pi*(i))/(2.*N))*np.cos((((2*b)+1)*np.pi*(j))/(2.*N))\n",
    "    return np.round(Sal,3)\n",
    "\n",
    "def InvTransf(Mat,x,y):\n",
    "    Sal=np.array([[0. for i in range(x)] for i in range(y)])\n",
    "    for i in range(x):\n",
    "        for j in range(y):\n",
    "            for a in range(N):\n",
    "                for b in range(N):\n",
    "                    if a==0 and b==0:\n",
    "                            Sal[i][j]+=1./(N)*Mat[a][b]*np.cos((((2*i)+1)*np.pi*a)/(2.*N))*np.cos((((2*j)+1)*np.pi*b)/(2.*N))\n",
    "                    elif a!=0 or b!=0:\n",
    "                        Sal[i][j]+=1./(N)*2*Mat[a][b]*np.cos((((2*i)+1)*np.pi*a)/(2.*N))*np.cos((((2*j)+1)*np.pi*b)/(2.*N))\n",
    "                    else:\n",
    "                        Sal[i][j]+=1./(N)*4*Mat[a][b]*np.cos((((2*i)+1)*np.pi*a)/(2.*N))*np.cos((((2*j)+1)*np.pi*b)/(2.*N))\n",
    "    \"\"\"for i in range(N):\n",
    "        for j in range(N):\n",
    "            Sal[i][j]=Sal[i][j]/2.\"\"\"\n",
    "    return np.round(Sal,3)\n",
    "            \n"
   ]
  },
  {
   "cell_type": "code",
   "execution_count": null,
   "metadata": {
    "collapsed": false
   },
   "outputs": [],
   "source": [
    "N=8\n",
    "ImIn=np.array([[255. for i in range(N)] for i in range(N)])\n",
    "plt.figure(1)\n",
    "plt.subplot(3,3,1)\n",
    "plt.imshow(ImIn,cmap='Greys_r',interpolation='None')\n",
    "print ImIn\n",
    "print Transf(ImIn)\n",
    "print InvTransf(Transf(ImIn))\n",
    "\n",
    "plt.subplot(3,3,2)\n",
    "plt.imshow(Transf(ImIn),cmap='Greys',interpolation='None')\n",
    "plt.subplot(3,3,3)\n",
    "plt.imshow(InvTransf(Transf(ImIn)),cmap='Greys',interpolation='None')\n",
    "\n",
    "ImIn=np.array([[0. for i in range(N)] for i in range(N)])\n",
    "plt.subplot(3,3,4)\n",
    "plt.imshow(ImIn,cmap='Greys',interpolation='None')\n",
    "plt.subplot(3,3,5)\n",
    "plt.imshow(Transf(ImIn),cmap='Greys',interpolation='None')\n",
    "plt.subplot(3,3,6)\n",
    "plt.imshow(InvTransf(Transf(ImIn)),cmap='Greys',interpolation='None')\n",
    "print ImIn\n",
    "print Transf(ImIn)\n",
    "print InvTransf(Transf(ImIn))\n",
    "ImIn=np.array([[float(i+8*j)*4 for i in range(N)] for j in range(N)])\n",
    "plt.subplot(3,3,7)\n",
    "plt.imshow(ImIn,cmap='Greys')\n",
    "plt.subplot(3,3,8)\n",
    "plt.imshow(Transf(ImIn),cmap='Greys')\n",
    "plt.subplot(3,3,9)\n",
    "print ImIn\n",
    "print Transf(ImIn)\n",
    "print InvTransf(Transf(ImIn))\n",
    "plt.imshow(InvTransf(Transf(ImIn)),cmap='Greys')\n",
    "\n",
    "plt.show()"
   ]
  },
  {
   "cell_type": "code",
   "execution_count": null,
   "metadata": {
    "collapsed": true
   },
   "outputs": [],
   "source": []
  },
  {
   "cell_type": "code",
   "execution_count": null,
   "metadata": {
    "collapsed": false
   },
   "outputs": [],
   "source": [
    "print range(0,8,2)"
   ]
  },
  {
   "cell_type": "code",
   "execution_count": null,
   "metadata": {
    "collapsed": false
   },
   "outputs": [],
   "source": [
    "i=Image.open('lena.jpg')\n",
    "img=Image.fromstring('F',i.size,i.tostring,'raw','F;16')\n",
    "plt.imshow(img,'Greys_r')"
   ]
  },
  {
   "cell_type": "code",
   "execution_count": null,
   "metadata": {
    "collapsed": false
   },
   "outputs": [],
   "source": [
    "import matplotlib.image as mpimg\n",
    "from PIL import Image\n",
    "import time\n",
    "N=8\n",
    "#img=Image.fromstring(\"Lena256.raw\")\n",
    "\n",
    "def ochoporocho(Mat,x,y):\n",
    "    Sal=np.array([[0 for i in range(N)] for i in range(N)])\n",
    "    for i in range(N):\n",
    "        for j in range(N):\n",
    "            Sal[i][j]=Mat[i+x][j+y]\n",
    "    return Sal\n",
    "\n",
    "img=Image.open('lena.jpg')\n",
    "pixels=img.load()\n",
    "\n",
    "x,y=img.size\n",
    "IMG=[]\n",
    "for i in range(x):\n",
    "    aux=[]\n",
    "    for j in range(y):\n",
    "        aux.append(pixels[j,i])\n",
    "    IMG.append(aux)\n",
    "plt.imshow(IMG,'Greys_r')\n",
    "plt.show()\n",
    "plt.imshow(InvTransf(IMG,x,y),'Greys_r')\n",
    "plt.show()\n",
    "plt.imshow(IMG,'Greys_r')\n",
    "plt.show()\n",
    "\"\"\"\n",
    "for i in range(0,x,8):\n",
    "    for j in range(0,y,8):\n",
    "        plt.clf()\n",
    "        plt.imshow(ochoporocho(IMG,i,j),'Greys_r')\n",
    "        plt.draw()\n",
    "        time.sleep(0.1)\n",
    "        plt.show()\n",
    "        plt.close()\n",
    "\"\"\"\n",
    "\"\"\"\n",
    "for i in range(0,x,8):\n",
    "    for j in range(0,y,8):\n",
    "        plt.clf()\n",
    "        plt.imshow(ochoporocho(IMG,i,j),'Greys_r')\n",
    "        plt.draw()\n",
    "        time.sleep(0.1)\n",
    "        plt.show()\n",
    "        plt.close()\n",
    "\"\"\"\n"
   ]
  },
  {
   "cell_type": "code",
   "execution_count": null,
   "metadata": {
    "collapsed": true
   },
   "outputs": [],
   "source": []
  }
 ],
 "metadata": {
  "kernelspec": {
   "display_name": "Python 2",
   "language": "python",
   "name": "python2"
  },
  "language_info": {
   "codemirror_mode": {
    "name": "ipython",
    "version": 2
   },
   "file_extension": ".py",
   "mimetype": "text/x-python",
   "name": "python",
   "nbconvert_exporter": "python",
   "pygments_lexer": "ipython2",
   "version": "2.7.10"
  }
 },
 "nbformat": 4,
 "nbformat_minor": 0
}
