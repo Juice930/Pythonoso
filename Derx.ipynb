{
 "cells": [
  {
   "cell_type": "code",
   "execution_count": 2,
   "metadata": {
    "collapsed": true
   },
   "outputs": [],
   "source": [
    "import numpy as np\n",
    "import matplotlib.pyplot as plt"
   ]
  },
  {
   "cell_type": "code",
   "execution_count": 38,
   "metadata": {
    "collapsed": true
   },
   "outputs": [],
   "source": [
    "%matplotlib inline"
   ]
  },
  {
   "cell_type": "code",
   "execution_count": 13,
   "metadata": {
    "collapsed": false
   },
   "outputs": [],
   "source": [
    "tex=file(\"C:\\Users\\Guillermo1\\Downloads\\derx.txt\",'r')\n",
    "l = np.array([ map(float,line.split()) for line in tex])\n",
    "t=np.linspace(0,10,len(l[1]))   #Esto es un arreglo con valores de 0 a 10 'segundos' y\n",
    "                                #que tiene la misma cantidad de datos que len[0]\n",
    "#for i in range(10):\n",
    "#plt.plot(l)\n",
    "plt.plot(l)\n",
    "plt.show()\n",
    "plt.matshow(l)\n",
    "plt.show()\n",
    "tex.close()"
   ]
  }
 ],
 "metadata": {
  "kernelspec": {
   "display_name": "Python 2",
   "language": "python",
   "name": "python2"
  },
  "language_info": {
   "codemirror_mode": {
    "name": "ipython",
    "version": 2
   },
   "file_extension": ".py",
   "mimetype": "text/x-python",
   "name": "python",
   "nbconvert_exporter": "python",
   "pygments_lexer": "ipython2",
   "version": "2.7.11"
  }
 },
 "nbformat": 4,
 "nbformat_minor": 0
}
