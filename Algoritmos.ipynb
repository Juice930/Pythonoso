{
 "cells": [
  {
   "cell_type": "code",
   "execution_count": 1,
   "metadata": {
    "collapsed": true
   },
   "outputs": [],
   "source": [
    "import numpy as np\n",
    "import matplotlib.pyplot as plt\n",
    "%matplotlib inline"
   ]
  },
  {
   "cell_type": "markdown",
   "metadata": {},
   "source": [
    "Fórmula de Leibniz para calcular $\\pi$\n",
    "$$\\pi=4 \\sum_{n=0}^{\\infty} \\frac{-1^n}{2n+1}$$"
   ]
  },
  {
   "cell_type": "code",
   "execution_count": 1,
   "metadata": {
    "collapsed": false
   },
   "outputs": [],
   "source": [
    "def leibPi(i):\n",
    "    return 4* sum([((-1.)**n)/(2*n +1) for n in range (int (i))])"
   ]
  },
  {
   "cell_type": "code",
   "execution_count": 3,
   "metadata": {
    "collapsed": false
   },
   "outputs": [
    {
     "data": {
      "text/plain": [
       "3.1415925535897915"
      ]
     },
     "execution_count": 3,
     "metadata": {},
     "output_type": "execute_result"
    }
   ],
   "source": [
    "leibPi(10000000)"
   ]
  },
  {
   "cell_type": "code",
   "execution_count": 4,
   "metadata": {
    "collapsed": false
   },
   "outputs": [],
   "source": [
    "n=np.linspace(0,100,101)"
   ]
  },
  {
   "cell_type": "code",
   "execution_count": 5,
   "metadata": {
    "collapsed": false
   },
   "outputs": [],
   "source": [
    "serie= [ leibPi(item) for item in n]"
   ]
  },
  {
   "cell_type": "code",
   "execution_count": 6,
   "metadata": {
    "collapsed": false
   },
   "outputs": [
    {
     "data": {
      "image/png": "[encoded data removed]",
      "text/plain": [
       "<matplotlib.figure.Figure at 0x9fe33c8>"
      ]
     },
     "metadata": {},
     "output_type": "display_data"
    }
   ],
   "source": [
    "plt.plot(n,serie,'r-')\n",
    "plt.plot([0,100],[np.pi,np.pi],'g')\n",
    "plt.xlabel('n')\n",
    "plt.ylabel('Serie')\n",
    "plt.show()"
   ]
  },
  {
   "cell_type": "code",
   "execution_count": 7,
   "metadata": {
    "collapsed": false
   },
   "outputs": [],
   "source": [
    "def newPi(i=50):\n",
    "    return 2* sum([(2.**n*(np.math.factorial(n)**2))/np.math.factorial(2*n +1) for n in range (int (i))])"
   ]
  },
  {
   "cell_type": "markdown",
   "metadata": {},
   "source": [
    "Serie de Newton para calcular $\\pi$\n",
    "$$\\pi=2\\sum_{n=0}^{\\infty} \\frac{2^n n!^2}{\\left(2n+1\\right)!}$$"
   ]
  },
  {
   "cell_type": "code",
   "execution_count": 8,
   "metadata": {
    "collapsed": false
   },
   "outputs": [
    {
     "name": "stdout",
     "output_type": "stream",
     "text": [
      "3.14159265359 3.14159265359\n"
     ]
    }
   ],
   "source": [
    "print newPi(),np.pi"
   ]
  },
  {
   "cell_type": "code",
   "execution_count": 9,
   "metadata": {
    "collapsed": false
   },
   "outputs": [
    {
     "data": {
      "image/png": "[encoded data removed]",
      "text/plain": [
       "<matplotlib.figure.Figure at 0x304ff518>"
      ]
     },
     "metadata": {},
     "output_type": "display_data"
    }
   ],
   "source": [
    "a=np.linspace(0,50,51)\n",
    "nserie= [ newPi(item) for item in a]\n",
    "plt.plot(a,nserie,'r.')\n",
    "plt.plot([0,50],[np.pi,np.pi],'g')\n",
    "plt.xlabel('n')\n",
    "plt.ylabel('Serie')\n",
    "plt.show()"
   ]
  },
  {
   "cell_type": "markdown",
   "metadata": {
    "collapsed": true
   },
   "source": [
    "Fórmula de Wallis para $\\pi$\n",
    "$$\\pi=2\\prod_{n=1}^{\\infty} \\frac{\\left(2n\\right)^2}{\\left(2n-1\\right)\\left(2n+1\\right)}$$"
   ]
  },
  {
   "cell_type": "code",
   "execution_count": 12,
   "metadata": {
    "collapsed": false
   },
   "outputs": [],
   "source": [
    "def wallPi(i=100000):\n",
    "    return 2*np.product([(2.*n)**2/((2*n-1)*(2*n+1)) for n in range(1,int(i))])"
   ]
  },
  {
   "cell_type": "code",
   "execution_count": 14,
   "metadata": {
    "collapsed": false
   },
   "outputs": [
    {
     "name": "stdout",
     "output_type": "stream",
     "text": [
      "3.14158479958\n"
     ]
    }
   ],
   "source": [
    "print wallPi()"
   ]
  },
  {
   "cell_type": "code",
   "execution_count": 18,
   "metadata": {
    "collapsed": true
   },
   "outputs": [],
   "source": [
    "def chicha(a,b,c):\n",
    "    if b**2-4*a*c>=0:\n",
    "        return (-b+np.sqrt(b**2-4*a*c))/(2*a),(-b-np.sqrt(b**2-4*a*c))/(2*a)\n",
    "    else:\n",
    "        return complex(-b/(2*a),-np.sqrt(-(b**2-4*a*c)))/(2*a),complex(-b/(2*a),np.sqrt(-(b**2-4*a*c))/(2*a))"
   ]
  },
  {
   "cell_type": "code",
   "execution_count": 20,
   "metadata": {
    "collapsed": false
   },
   "outputs": [
    {
     "data": {
      "text/plain": [
       "(-1j, 1j)"
      ]
     },
     "execution_count": 20,
     "metadata": {},
     "output_type": "execute_result"
    }
   ],
   "source": [
    "chicha(1,0,1)"
   ]
  },
  {
   "cell_type": "code",
   "execution_count": 21,
   "metadata": {
    "collapsed": true
   },
   "outputs": [],
   "source": [
    "def fun(x):\n",
    "    return np.sin(2*x+1)-3./5*x+1"
   ]
  },
  {
   "cell_type": "code",
   "execution_count": 23,
   "metadata": {
    "collapsed": false
   },
   "outputs": [
    {
     "data": {
      "image/png": "[encoded data removed]",
      "text/plain": [
       "<matplotlib.figure.Figure at 0xad0aa58>"
      ]
     },
     "metadata": {},
     "output_type": "display_data"
    }
   ],
   "source": [
    "x=np.linspace(-10,10,101)\n",
    "plt.plot(x,fun(x),[-10,10],[0,0],'k')\n",
    "plt.show()"
   ]
  },
  {
   "cell_type": "code",
   "execution_count": 42,
   "metadata": {
    "collapsed": false
   },
   "outputs": [],
   "source": [
    "def biseccion(f,a,b,tol):\n",
    "    c=None\n",
    "    if f(a)==0: return a\n",
    "    if f(b)==0: return b\n",
    "    while f(a)-f(b)>tol:\n",
    "        c=(a+b)/2.\n",
    "        if f(c)*f(b)<0:\n",
    "            a=c\n",
    "        elif f(c)*f(a)<0:\n",
    "            b=c\n",
    "    return c"
   ]
  },
  {
   "cell_type": "code",
   "execution_count": 44,
   "metadata": {
    "collapsed": false
   },
   "outputs": [
    {
     "name": "stdout",
     "output_type": "stream",
     "text": [
      "1.0 2 1.0\n",
      "0.54112000806 -1.15892427466 0.54112000806\n",
      "1.0 1.5 1.5\n",
      "0.54112000806 -0.656802495308 -0.656802495308\n",
      "1.0 1.25 1.25\n",
      "0.54112000806 -0.10078322769 -0.10078322769\n",
      "1.125 1.25 1.125\n",
      "0.21680486547 -0.10078322769 0.21680486547\n",
      "1.1875 1.25 1.1875\n",
      "0.056206187598 -0.10078322769 0.056206187598\n",
      "1.1875 1.21875 1.21875\n",
      "0.056206187598 -0.0228578813139 -0.0228578813139\n",
      "1.203125 1.21875 1.203125\n",
      "0.0165464396295 -0.0228578813139 0.0165464396295\n",
      "1.203125 1.2109375 1.2109375\n",
      "0.0165464396295 -0.00318948809806 -0.00318948809806\n",
      "1.20703125 1.2109375 1.20703125\n",
      "0.00667026319192 -0.00318948809806 0.00667026319192\n",
      "1.208984375 1.2109375 1.208984375\n",
      "0.00173830570854 -0.00318948809806 0.00173830570854\n",
      "1.208984375 1.2099609375 1.2099609375\n",
      "0.00173830570854 -0.000726115237779 -0.000726115237779\n",
      "1.20947265625 1.2099609375 1.20947265625\n",
      "0.000505964672396 -0.000726115237779 0.000505964672396\n",
      "1.20947265625 1.20971679688 1.20971679688\n",
      "0.000505964672396 -0.000110107979418 -0.000110107979418\n",
      "1.20959472656 1.20971679688 1.20959472656\n",
      "0.000197920179304 -0.000110107979418 0.000197920179304\n",
      "1.20965576172 1.20971679688 1.20965576172\n",
      "4.39040572723e-05 -0.000110107979418 4.39040572723e-05\n",
      "1.20965576172 1.2096862793 1.2096862793\n",
      "4.39040572723e-05 -3.31024718498e-05 -3.31024718498e-05\n",
      "1.20967102051 1.2096862793 1.20967102051\n",
      "5.40066503052e-06 -3.31024718498e-05 5.40066503052e-06\n",
      "1.20967102051 1.2096786499 1.2096786499\n",
      "5.40066503052e-06 -1.38509353316e-05 -1.38509353316e-05\n",
      "1.20967102051 1.20967483521 1.20967483521\n",
      "5.40066503052e-06 -4.2251431307e-06 -4.2251431307e-06\n",
      "1.20967483521\n"
     ]
    }
   ],
   "source": [
    "print biseccion(fun,0,2,0.00001)"
   ]
  }
 ],
 "metadata": {
  "kernelspec": {
   "display_name": "Python 2",
   "language": "python",
   "name": "python2"
  },
  "language_info": {
   "codemirror_mode": {
    "name": "ipython",
    "version": 2
   },
   "file_extension": ".py",
   "mimetype": "text/x-python",
   "name": "python",
   "nbconvert_exporter": "python",
   "pygments_lexer": "ipython2",
   "version": "2.7.10"
  }
 },
 "nbformat": 4,
 "nbformat_minor": 0
}
