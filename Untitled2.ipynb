{
 "cells": [
  {
   "cell_type": "code",
   "execution_count": 3,
   "metadata": {
    "collapsed": true
   },
   "outputs": [],
   "source": [
    "import matplotlib.pyplot as plt\n",
    "import numpy as np\n",
    "import scipy as sp\n",
    "%matplotlib inline"
   ]
  },
  {
   "cell_type": "code",
   "execution_count": 10,
   "metadata": {
    "collapsed": false
   },
   "outputs": [
    {
     "name": "stdout",
     "output_type": "stream",
     "text": [
      "[[1, 1, 1, 1]]\n"
     ]
    }
   ],
   "source": [
    "p=10\n",
    "a=np.array([[0. for i in range(p)] for i in range(p)])\n",
    "a[0]=[1. for m in range(5)]\n",
    "a[1][1]=-s[1]/s[0]\n",
    "for m in range(p):\n",
    "    for k in range(m):\n",
    "        alpha=0.\n",
    "        beta=0.\n",
    "        for j in range(m):\n",
    "            alpha+=s[m-j]*a[j][m-1]\n",
    "        for j in range(1,m):\n",
    "            beta+=s[m-j]*a[m-j][m-1]\n",
    "        a[m][m]=-a/b\n",
    "        a[k][m]=a[k][m-1]+a[m-k][m-1]*(-a/b)\n",
    "print a"
   ]
  }
 ],
 "metadata": {
  "kernelspec": {
   "display_name": "Python 2",
   "language": "python",
   "name": "python2"
  },
  "language_info": {
   "codemirror_mode": {
    "name": "ipython",
    "version": 2
   },
   "file_extension": ".py",
   "mimetype": "text/x-python",
   "name": "python",
   "nbconvert_exporter": "python",
   "pygments_lexer": "ipython2",
   "version": "2.7.10"
  }
 },
 "nbformat": 4,
 "nbformat_minor": 0
}
