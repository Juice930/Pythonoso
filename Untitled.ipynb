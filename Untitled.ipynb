{
 "cells": [
  {
   "cell_type": "code",
   "execution_count": 1,
   "metadata": {
    "collapsed": true
   },
   "outputs": [],
   "source": [
    "import numpy as np\n",
    "import matplotlib.pyplot as plt"
   ]
  },
  {
   "cell_type": "markdown",
   "metadata": {},
   "source": [
    "# Sistemas de Ecuaciones No Lineales"
   ]
  },
  {
   "cell_type": "markdown",
   "metadata": {},
   "source": [
    "## Newton Raphson y punto Fijo"
   ]
  },
  {
   "cell_type": "code",
   "execution_count": 23,
   "metadata": {
    "collapsed": false
   },
   "outputs": [],
   "source": [
    "def f0(x):\n",
    "    return x[0]**2+x[1]**2-1\n",
    "def f1(x):\n",
    "    return 4./9*x[0]**2+4*x[1]**2-1\n",
    "\n",
    "def F(f0,f1,x):\n",
    "    return np.array([f0(x),f1(x)])\n",
    "\n",
    "def J(x):    #Jacobiano=F'(x)\n",
    "    return np.array([[2*x[0],2*x[1]],[8./9*x[0],8*x[1]]])\n",
    "\n",
    "def newtonRaphMat(a,F,J,n=10):\n",
    "    xr=a\n",
    "    for i in range (n):\n",
    "        xr-=np.linalg.inv(J(xr)).dot(F(f0,f1,xr))\n",
    "        print i,xr,F(f0,f1,xr)\n",
    "    return xr\n",
    "def puntoFijoMat(a,F,n=100):\n",
    "    xr=a\n",
    "    for i in range(n):\n",
    "        xr+=F(f0,f1,xr)\n",
    "    return xr"
   ]
  },
  {
   "cell_type": "code",
   "execution_count": 24,
   "metadata": {
    "collapsed": false
   },
   "outputs": [
    {
     "name": "stdout",
     "output_type": "stream",
     "text": [
      "0 [ 0.921875  0.578125] [ 0.18408203  0.71462674]\n",
      "1 [ 0.91856462  0.42419764] [ 0.02370459  0.09477941]\n",
      "2 [ 0.91855865  0.39627005] [ 0.00077995  0.0031198 ]\n",
      "3 [ 0.91855865  0.39528593] [  9.68481296e-07   3.87392518e-06]\n",
      "4 [ 0.91855865  0.39528471] [  1.50079948e-12   6.00297589e-12]\n",
      "5 [ 0.91855865  0.39528471] [ 0.  0.]\n",
      "6 [ 0.91855865  0.39528471] [ 0.  0.]\n",
      "7 [ 0.91855865  0.39528471] [ 0.  0.]\n",
      "8 [ 0.91855865  0.39528471] [ 0.  0.]\n",
      "9 [ 0.91855865  0.39528471] [ 0.  0.]\n",
      "[ 0.91855865  0.39528471]\n"
     ]
    }
   ],
   "source": [
    "print newtonRaphMat(np.array([1.,1.]),F,J)"
   ]
  },
  {
   "cell_type": "markdown",
   "metadata": {},
   "source": [
    "Punto Fijo necesita una condición inicial que converja"
   ]
  },
  {
   "cell_type": "code",
   "execution_count": 28,
   "metadata": {
    "collapsed": false
   },
   "outputs": [
    {
     "name": "stdout",
     "output_type": "stream",
     "text": [
      "[ inf  inf]\n"
     ]
    },
    {
     "name": "stderr",
     "output_type": "stream",
     "text": [
      "C:\\Users\\Guillermo1\\Anaconda2\\lib\\site-packages\\ipykernel\\__main__.py:2: RuntimeWarning: overflow encountered in double_scalars\n",
      "  from ipykernel import kernelapp as app\n",
      "C:\\Users\\Guillermo1\\Anaconda2\\lib\\site-packages\\ipykernel\\__main__.py:4: RuntimeWarning: overflow encountered in double_scalars\n"
     ]
    }
   ],
   "source": [
    "print puntoFijoMat(np.array([0.1,0.1]),F)"
   ]
  },
  {
   "cell_type": "markdown",
   "metadata": {},
   "source": [
    "# Regla de Cramer"
   ]
  },
  {
   "cell_type": "code",
   "execution_count": 42,
   "metadata": {
    "collapsed": false
   },
   "outputs": [],
   "source": [
    "A=np.array([[1,1],[1,-1]])\n",
    "b=np.array([1,2])\n",
    "\n",
    "def cramer(A,b):\n",
    "    X=list()\n",
    "    D=np.linalg.det(A)\n",
    "    for i in range(len(A)):\n",
    "        As=A.copy()\n",
    "        As.T[i]=b\n",
    "        X.append(np.linalg.det(As)/D)\n",
    "    return X"
   ]
  },
  {
   "cell_type": "code",
   "execution_count": 44,
   "metadata": {
    "collapsed": false
   },
   "outputs": [
    {
     "name": "stdout",
     "output_type": "stream",
     "text": [
      "[1.4999999999999998, -0.5]\n",
      "[2.0000000000000018, 2.9999999999999996, -0.99999999999999978]\n"
     ]
    }
   ],
   "source": [
    "print cramer(A,b)\n",
    "print cramer(np.array([[2,1,-1],[-3,-1,2],[-2,1,2]]),np.array([8,-11,-3]))"
   ]
  },
  {
   "cell_type": "markdown",
   "metadata": {},
   "source": [
    "## Gauss Jordan"
   ]
  },
  {
   "cell_type": "code",
   "execution_count": null,
   "metadata": {
    "collapsed": true
   },
   "outputs": [],
   "source": []
  }
 ],
 "metadata": {
  "kernelspec": {
   "display_name": "Python 2",
   "language": "python",
   "name": "python2"
  },
  "language_info": {
   "codemirror_mode": {
    "name": "ipython",
    "version": 2
   },
   "file_extension": ".py",
   "mimetype": "text/x-python",
   "name": "python",
   "nbconvert_exporter": "python",
   "pygments_lexer": "ipython2",
   "version": "2.7.11"
  }
 },
 "nbformat": 4,
 "nbformat_minor": 0
}
