{
 "cells": [
  {
   "cell_type": "code",
   "execution_count": 1,
   "metadata": {
    "collapsed": true
   },
   "outputs": [],
   "source": [
    "import matplotlib.pyplot as plt\n",
    "import numpy as np\n",
    "%matplotlib inline"
   ]
  },
  {
   "cell_type": "code",
   "execution_count": 49,
   "metadata": {
    "collapsed": false
   },
   "outputs": [
    {
     "name": "stdout",
     "output_type": "stream",
     "text": [
      "Lista de números\n",
      "[0.00653524532792315, -0.00780972919805379, -0.0550535842059114, -0.0712284791271113, -0.106954535898066, -0.11916792188666, -0.115721295328865, -0.116275588191028, -0.0921638256403987, -0.0725532038120437, -0.053556925239718, -0.0455845075577694, -0.0421313947636115, -0.0284635387020392, -0.0166183385208131, 0.0172350149313667, 0.025107909839615, 0.0223801662581356, 0.0250527054260517, 0.00833290426683431]\n",
      "\n",
      "0.00653524532792 -0.00780972919805 -0.0550535842059 -0.0712284791271 \t P=-0.0318891368008\n",
      "-0.106954535898 -0.119167921887 -0.115721295329 -0.116275588191 \t P=-0.114529835326\n",
      "-0.0921638256404 -0.072553203812 -0.0535569252397 -0.0455845075578 \t P=-0.0659646155625\n",
      "-0.0421313947636 -0.028463538702 -0.0166183385208 0.0172350149314 \t P=-0.0174945642638\n",
      "0.0251079098396 0.0223801662581 0.0250527054261 0.00833290426683 \t P=0.0202184214477\n"
     ]
    }
   ],
   "source": [
    "fil=file(\"Voz.txt\",'a+')\n",
    "arr=fil.readlines()\n",
    "arr=[float(i.strip()) for i in arr]\n",
    "arr2=arr[:20]\n",
    "print \"Lista de números\"\n",
    "print str(arr2)+'\\n'\n",
    "for i in range(5):\n",
    "    for j in range(5):\n",
    "        if j==4:\n",
    "            print \"\\t P=\"+str((arr2[i*4+j-4]+arr2[i*4+j-3]+arr2[i*4+j-2]+arr2[i*4+j-1])/4.),\n",
    "            continue\n",
    "        print arr2[i*4+j],\n",
    "    print\n",
    "fil.close()"
   ]
  },
  {
   "cell_type": "code",
   "execution_count": null,
   "metadata": {
    "collapsed": true
   },
   "outputs": [],
   "source": []
  }
 ],
 "metadata": {
  "kernelspec": {
   "display_name": "Python 2",
   "language": "python",
   "name": "python2"
  },
  "language_info": {
   "codemirror_mode": {
    "name": "ipython",
    "version": 2
   },
   "file_extension": ".py",
   "mimetype": "text/x-python",
   "name": "python",
   "nbconvert_exporter": "python",
   "pygments_lexer": "ipython2",
   "version": "2.7.10"
  }
 },
 "nbformat": 4,
 "nbformat_minor": 0
}
