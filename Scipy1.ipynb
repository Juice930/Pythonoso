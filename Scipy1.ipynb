{
 "cells": [
  {
   "cell_type": "code",
   "execution_count": 1,
   "metadata": {
    "collapsed": true
   },
   "outputs": [],
   "source": [
    "from sympy import *\n",
    "import math"
   ]
  },
  {
   "cell_type": "code",
   "execution_count": 2,
   "metadata": {
    "collapsed": false
   },
   "outputs": [
    {
     "data": {
      "text/plain": [
       "sqrt(3)"
      ]
     },
     "execution_count": 2,
     "metadata": {},
     "output_type": "execute_result"
    }
   ],
   "source": [
    "sqrt(3)"
   ]
  },
  {
   "cell_type": "code",
   "execution_count": 3,
   "metadata": {
    "collapsed": true
   },
   "outputs": [],
   "source": [
    "init_printing(use_latex='mathjax')"
   ]
  },
  {
   "cell_type": "code",
   "execution_count": 4,
   "metadata": {
    "collapsed": false
   },
   "outputs": [
    {
     "data": {
      "text/latex": [
       "$$\\sqrt{3}$$"
      ],
      "text/plain": [
       "  ___\n",
       "╲╱ 3 "
      ]
     },
     "execution_count": 4,
     "metadata": {},
     "output_type": "execute_result"
    }
   ],
   "source": [
    "sqrt(3)"
   ]
  },
  {
   "cell_type": "code",
   "execution_count": 5,
   "metadata": {
    "collapsed": false
   },
   "outputs": [
    {
     "data": {
      "text/latex": [
       "$$4 \\sqrt{2}$$"
      ],
      "text/plain": [
       "    ___\n",
       "4⋅╲╱ 2 "
      ]
     },
     "execution_count": 5,
     "metadata": {},
     "output_type": "execute_result"
    }
   ],
   "source": [
    "sqrt(32)"
   ]
  },
  {
   "cell_type": "code",
   "execution_count": 6,
   "metadata": {
    "collapsed": false
   },
   "outputs": [
    {
     "name": "stdout",
     "output_type": "stream",
     "text": [
      "['_Symbol__xnew_cached_', '__abs__', '__add__', '__and__', '__call__', '__class__', '__complex__', '__delattr__', '__div__', '__doc__', '__eq__', '__float__', '__format__', '__ge__', '__getattribute__', '__getnewargs__', '__getstate__', '__gt__', '__hash__', '__init__', '__int__', '__invert__', '__le__', '__long__', '__lshift__', '__lt__', '__mod__', '__module__', '__mul__', '__ne__', '__neg__', '__new__', '__new_stage2__', '__or__', '__pos__', '__pow__', '__radd__', '__rand__', '__rdiv__', '__reduce__', '__reduce_ex__', '__repr__', '__rlshift__', '__rmod__', '__rmul__', '__ror__', '__rpow__', '__rrshift__', '__rshift__', '__rsub__', '__rtruediv__', '__rxor__', '__setattr__', '__setstate__', '__sizeof__', '__slots__', '__str__', '__sub__', '__subclasshook__', '__truediv__', '__xnew__', '__xor__', '_args', '_assumptions', '_compare_pretty', '_diff_wrt', '_eval_adjoint', '_eval_as_leading_term', '_eval_conjugate', '_eval_derivative', '_eval_evalf', '_eval_expand_complex', '_eval_interval', '_eval_is_algebraic_expr', '_eval_is_negative', '_eval_is_polynomial', '_eval_is_positive', '_eval_is_rational_function', '_eval_lseries', '_eval_nseries', '_eval_power', '_eval_rewrite', '_eval_simplify', '_eval_subs', '_eval_transpose', '_evalf', '_expand_hint', '_explicit_class_assumptions', '_from_mpmath', '_has', '_has_matcher', '_hashable_content', '_mhash', '_op_priority', '_parse_order', '_prop_handler', '_random', '_recursive_call', '_sage_', '_sanitize', '_sorted_args', '_subs', '_to_mpmath', 'adjoint', 'apart', 'args', 'args_cnc', 'as_base_exp', 'as_coeff_Add', 'as_coeff_Mul', 'as_coeff_add', 'as_coeff_exponent', 'as_coeff_mul', 'as_coefficient', 'as_coefficients_dict', 'as_content_primitive', 'as_dummy', 'as_expr', 'as_independent', 'as_leading_term', 'as_numer_denom', 'as_ordered_factors', 'as_ordered_terms', 'as_poly', 'as_powers_dict', 'as_real_imag', 'as_terms', 'assumptions0', 'atoms', 'cancel', 'canonical_variables', 'class_key', 'coeff', 'collect', 'combsimp', 'compare', 'compute_leading_term', 'conjugate', 'copy', 'could_extract_minus_sign', 'count', 'count_ops', 'default_assumptions', 'diff', 'doit', 'dummy_eq', 'equals', 'evalf', 'expand', 'extract_additively', 'extract_branch_factor', 'extract_multiplicatively', 'factor', 'find', 'free_symbols', 'fromiter', 'func', 'getO', 'getn', 'has', 'integrate', 'invert', 'is_Add', 'is_AlgebraicNumber', 'is_Atom', 'is_Boolean', 'is_Derivative', 'is_Dummy', 'is_Equality', 'is_Float', 'is_Function', 'is_Integer', 'is_Matrix', 'is_Mul', 'is_Not', 'is_Number', 'is_NumberSymbol', 'is_Order', 'is_Piecewise', 'is_Poly', 'is_Pow', 'is_Rational', 'is_Relational', 'is_Symbol', 'is_Vector', 'is_Wild', 'is_algebraic', 'is_algebraic_expr', 'is_antihermitian', 'is_bounded', 'is_commutative', 'is_comparable', 'is_complex', 'is_composite', 'is_constant', 'is_even', 'is_finite', 'is_hermitian', 'is_hypergeometric', 'is_imaginary', 'is_infinite', 'is_infinitesimal', 'is_integer', 'is_irrational', 'is_negative', 'is_noninteger', 'is_nonnegative', 'is_nonpositive', 'is_nonzero', 'is_number', 'is_odd', 'is_polar', 'is_polynomial', 'is_positive', 'is_prime', 'is_rational', 'is_rational_function', 'is_real', 'is_transcendental', 'is_unbounded', 'is_zero', 'iter_basic_args', 'leadterm', 'limit', 'lseries', 'match', 'matches', 'n', 'name', 'normal', 'nseries', 'nsimplify', 'powsimp', 'primitive', 'radsimp', 'ratsimp', 'rcall', 'refine', 'removeO', 'replace', 'rewrite', 'round', 'separate', 'series', 'simplify', 'sort_key', 'subs', 'taylor_term', 'together', 'transpose', 'trigsimp', 'xreplace']\n"
     ]
    }
   ],
   "source": [
    "x,y=symbols('x y')\n",
    "print dir(x)"
   ]
  },
  {
   "cell_type": "code",
   "execution_count": 7,
   "metadata": {
    "collapsed": false
   },
   "outputs": [
    {
     "data": {
      "text/latex": [
       "$$2 x^{2}$$"
      ],
      "text/plain": [
       "   2\n",
       "2⋅x "
      ]
     },
     "execution_count": 7,
     "metadata": {},
     "output_type": "execute_result"
    }
   ],
   "source": [
    "2*x**2"
   ]
  },
  {
   "cell_type": "code",
   "execution_count": 8,
   "metadata": {
    "collapsed": false
   },
   "outputs": [
    {
     "data": {
      "text/latex": [
       "$$2 x$$"
      ],
      "text/plain": [
       "2⋅x"
      ]
     },
     "execution_count": 8,
     "metadata": {},
     "output_type": "execute_result"
    }
   ],
   "source": [
    "diff(x**2,x)"
   ]
  },
  {
   "cell_type": "code",
   "execution_count": 9,
   "metadata": {
    "collapsed": false
   },
   "outputs": [],
   "source": [
    "EX1=exp(x)+y**2"
   ]
  },
  {
   "cell_type": "code",
   "execution_count": 10,
   "metadata": {
    "collapsed": false
   },
   "outputs": [
    {
     "data": {
      "text/latex": [
       "$$6.71828182845905$$"
      ],
      "text/plain": [
       "6.71828182845905"
      ]
     },
     "execution_count": 10,
     "metadata": {},
     "output_type": "execute_result"
    }
   ],
   "source": [
    "EX1.evalf(subs={x:1,y:2})"
   ]
  },
  {
   "cell_type": "code",
   "execution_count": 11,
   "metadata": {
    "collapsed": false
   },
   "outputs": [
    {
     "data": {
      "text/latex": [
       "$$24$$"
      ],
      "text/plain": [
       "24"
      ]
     },
     "execution_count": 11,
     "metadata": {},
     "output_type": "execute_result"
    }
   ],
   "source": [
    "sqrt(25**2-49)"
   ]
  },
  {
   "cell_type": "code",
   "execution_count": null,
   "metadata": {
    "collapsed": true
   },
   "outputs": [],
   "source": []
  }
 ],
 "metadata": {
  "kernelspec": {
   "display_name": "Python 2",
   "language": "python",
   "name": "python2"
  },
  "language_info": {
   "codemirror_mode": {
    "name": "ipython",
    "version": 2
   },
   "file_extension": ".py",
   "mimetype": "text/x-python",
   "name": "python",
   "nbconvert_exporter": "python",
   "pygments_lexer": "ipython2",
   "version": "2.7.11"
  }
 },
 "nbformat": 4,
 "nbformat_minor": 0
}
