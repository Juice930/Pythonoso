{
 "cells": [
  {
   "cell_type": "code",
   "execution_count": 1,
   "metadata": {
    "collapsed": true
   },
   "outputs": [],
   "source": [
    "import numpy as np\n",
    "import matplotlib.pyplot as plt\n",
    "import matplotlib.animation as animation\n",
    "%matplotlib inline"
   ]
  },
  {
   "cell_type": "code",
   "execution_count": 37,
   "metadata": {
    "collapsed": true
   },
   "outputs": [],
   "source": [
    "def f(x):\n",
    "    return 2*np.sin(x)-x**2/10."
   ]
  },
  {
   "cell_type": "code",
   "execution_count": 25,
   "metadata": {
    "collapsed": true
   },
   "outputs": [],
   "source": [
    "def maxPhi(f,a,b,n=1000):\n",
    "    phi=(1+5**0.5)/2\n",
    "    x1=b-(b-a)/phi\n",
    "    x2=a+(b-a)/phi\n",
    "    for i in range(int(n)):\n",
    "        if f(x1)>f(x2):\n",
    "            xmax=x1\n",
    "            b=x2\n",
    "            x2=x1\n",
    "            x1=b-(b-a)/phi\n",
    "        else:\n",
    "            b=x2\n",
    "            a=x1\n",
    "            x1=x2\n",
    "            x2=a+(b-a)/phi\n",
    "    return xmax,f(xmax)"
   ]
  },
  {
   "cell_type": "code",
   "execution_count": 22,
   "metadata": {
    "collapsed": false
   },
   "outputs": [
    {
     "name": "stdout",
     "output_type": "stream",
     "text": [
      "(1.4226191050290062, 1.7756991437102352)\n"
     ]
    }
   ],
   "source": [
    "print maxPhi(f,0,4,10000)"
   ]
  },
  {
   "cell_type": "code",
   "execution_count": 28,
   "metadata": {
    "collapsed": false
   },
   "outputs": [
    {
     "name": "stdout",
     "output_type": "stream",
     "text": [
      "0.0107473286276\n"
     ]
    }
   ],
   "source": [
    "print 2*np.cos(1.4226191050290062)-1.4226191050290062/5"
   ]
  },
  {
   "cell_type": "code",
   "execution_count": 30,
   "metadata": {
    "collapsed": true
   },
   "outputs": [],
   "source": [
    "def minPhi(f,a,b,n=1000):\n",
    "    phi=(1+5**0.5)/2\n",
    "    dx=(b-a)/phi\n",
    "    x1=b-dx\n",
    "    x2=a+dx\n",
    "    for i in range(int(n)):\n",
    "        if f(x1)<f(x2):\n",
    "            xmin=x1\n",
    "            b=x2\n",
    "            x2=x1\n",
    "            x1=b-(b-a)/phi\n",
    "        else:\n",
    "            b=x2\n",
    "            a=x1\n",
    "            x1=x2\n",
    "            x2=a+(b-a)/phi\n",
    "    return xmin,f(xmin)"
   ]
  },
  {
   "cell_type": "code",
   "execution_count": 36,
   "metadata": {
    "collapsed": true
   },
   "outputs": [],
   "source": [
    "def fn(x):\n",
    "    return -2*np.sin(x)+x**2/10."
   ]
  },
  {
   "cell_type": "code",
   "execution_count": 35,
   "metadata": {
    "collapsed": false
   },
   "outputs": [
    {
     "name": "stdout",
     "output_type": "stream",
     "text": [
      "(1.4226191050290062, -1.7756991437102352)\n"
     ]
    }
   ],
   "source": [
    "print minPhi(f,0,4)"
   ]
  }
 ],
 "metadata": {
  "kernelspec": {
   "display_name": "Python 2",
   "language": "python",
   "name": "python2"
  },
  "language_info": {
   "codemirror_mode": {
    "name": "ipython",
    "version": 2
   },
   "file_extension": ".py",
   "mimetype": "text/x-python",
   "name": "python",
   "nbconvert_exporter": "python",
   "pygments_lexer": "ipython2",
   "version": "2.7.11"
  }
 },
 "nbformat": 4,
 "nbformat_minor": 0
}
