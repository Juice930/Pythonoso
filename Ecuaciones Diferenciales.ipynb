{
 "cells": [
  {
   "cell_type": "code",
   "execution_count": 2,
   "metadata": {
    "collapsed": true
   },
   "outputs": [],
   "source": [
    "import numpy as np\n",
    "import matplotlib.pyplot as plt\n",
    "from mpl_toolkits.mplot3d import axes3d\n",
    "import matplotlib.animation as animation\n",
    "#%matplotlib inline"
   ]
  },
  {
   "cell_type": "markdown",
   "metadata": {},
   "source": [
    "# Método de Euler\n",
    "## $$\\frac{d u(t)}{d t}=f(u,t)$$\n",
    "## $$u_{i+1}=u_1+f(u_1,t_1) \\cdot \\Delta t$$"
   ]
  },
  {
   "cell_type": "code",
   "execution_count": null,
   "metadata": {
    "collapsed": true
   },
   "outputs": [],
   "source": [
    "def f(x,t):\n",
    "    return x-t"
   ]
  },
  {
   "cell_type": "code",
   "execution_count": null,
   "metadata": {
    "collapsed": false
   },
   "outputs": [],
   "source": [
    "#Condiciones iniciales\n",
    "x=1\n",
    "dt=0.01\n",
    "t=0\n",
    "X=[x]\n",
    "T=[t]\n",
    "while t<=10:\n",
    "    x+=f(x,t)*dt\n",
    "    t+=dt\n",
    "    X.append(x)\n",
    "    T.append(t)\n",
    "    \n",
    "plt.plot(T,X)\n",
    "plt.show()"
   ]
  },
  {
   "cell_type": "code",
   "execution_count": null,
   "metadata": {
    "collapsed": false
   },
   "outputs": [],
   "source": [
    "def f(v,g=9.81,m=1,c=1):\n",
    "    return g-c*v/m\n",
    "\n",
    "t=0\n",
    "v=1\n",
    "V=[v]\n",
    "T=[t]\n",
    "dt=0.01\n",
    "while t<=10:\n",
    "    v+=f(v)*dt\n",
    "    t+=dt\n",
    "    V.append(v)\n",
    "    T.append(t)\n",
    "    \n",
    "plt.plot(T,V)\n",
    "plt.show()"
   ]
  },
  {
   "cell_type": "code",
   "execution_count": null,
   "metadata": {
    "collapsed": false
   },
   "outputs": [],
   "source": [
    "def F(u,g=-9.81):\n",
    "    return np.array([u[1],g])\n",
    "\n",
    "t=0\n",
    "T=[t]\n",
    "dt=0.01\n",
    "u=np.array([0.,50.])\n",
    "U=[u.copy()]#U=[x,v]\n",
    "while t<=10:\n",
    "    u+=F(u)*dt\n",
    "    t+=dt\n",
    "    U.append(u.copy())\n",
    "    T.append(t)\n",
    "X=[i[0] for i in U]\n",
    "V=[i[1] for i in U]\n",
    "\n",
    "plt.plot(T,X)\n",
    "plt.show()"
   ]
  },
  {
   "cell_type": "code",
   "execution_count": null,
   "metadata": {
    "collapsed": false
   },
   "outputs": [],
   "source": [
    "def F(u,c=0.25,m=1,k=2.):\n",
    "    return np.array([u[1],-c/m*u[1]-k/m*u[0]])\n",
    "\n",
    "t=0\n",
    "T=[t]\n",
    "dt=0.01\n",
    "u=np.array([0.,50.])\n",
    "U=[u.copy()]#U=[x,v]\n",
    "while t<=50:\n",
    "    u+=F(u)*dt\n",
    "    t+=dt\n",
    "    U.append(u.copy())\n",
    "    T.append(t)\n",
    "X=[i[0] for i in U]\n",
    "V=[i[1] for i in U]\n",
    "\n",
    "plt.figure(1,figsize=(10,10))\n",
    "plt.subplot(211)\n",
    "plt.plot(T,X)\n",
    "plt.subplot(212)\n",
    "plt.plot(X,V)\n",
    "\n",
    "plt.show()"
   ]
  },
  {
   "cell_type": "markdown",
   "metadata": {},
   "source": [
    "## Condiciones en  la Frontera"
   ]
  },
  {
   "cell_type": "markdown",
   "metadata": {},
   "source": [
    "### Diferencias Finitas"
   ]
  },
  {
   "cell_type": "code",
   "execution_count": null,
   "metadata": {
    "collapsed": false
   },
   "outputs": [],
   "source": [
    "#Temperatura en una barra de longitud L, se divide en 5 partes\n",
    "N=5\n",
    "L=10.\n",
    "T0=1000.\n",
    "TL=298.\n",
    "\n",
    "x=np.linspace(0,L,N)\n",
    "dx=L/(N-1)\n",
    "A=np.zeros((N,N),np.float64)\n",
    "b=np.zeros(N,np.float64)\n",
    "for i in range(N):\n",
    "    if i==0 or i==N-1:\n",
    "            A[i][i]=dx**2\n",
    "    else:\n",
    "        A[i][i]=-2\n",
    "        A[i][i+1]=1\n",
    "        A[i][i-1]=1\n",
    "    \n",
    "    if i==0:\n",
    "        b[i]=T0\n",
    "    elif i==N-1:\n",
    "        b[i]=TL\n",
    "T=(np.linalg.inv(A)).dot(b)\n",
    "plt.plot(x,T,'ro')\n",
    "plt.show()"
   ]
  },
  {
   "cell_type": "code",
   "execution_count": null,
   "metadata": {
    "collapsed": false
   },
   "outputs": [],
   "source": [
    "N=5\n",
    "L=10.\n",
    "T0=1000.\n",
    "TL=298.\n",
    "\n",
    "x=np.linspace(0,L,N)\n",
    "dx=L/(N-1)\n",
    "A=np.zeros((N,N),np.float64)\n",
    "b=np.zeros(N,np.float64)\n",
    "for i in range(N):\n",
    "    if i==0:\n",
    "            A[i][i]=dx**2\n",
    "            A[i][i+1]=dx**2\n",
    "    elif i==N-1:\n",
    "        A[i][i]=1\n",
    "        b[i]=TL       \n",
    "    else:\n",
    "        A[i][i]=-2\n",
    "        A[i][i+1]=1\n",
    "        A[i][i-1]=1\n",
    "print A\n",
    "print b.T\n",
    "\n",
    "T=(np.linalg.inv(A)).dot(b.T)\n",
    "plt.plot(x,T,'ro')\n",
    "plt.show()"
   ]
  },
  {
   "cell_type": "markdown",
   "metadata": {},
   "source": [
    "## Ecuaciones Diferenciales Parciales"
   ]
  },
  {
   "cell_type": "code",
   "execution_count": 9,
   "metadata": {
    "collapsed": false
   },
   "outputs": [],
   "source": [
    "M=20\n",
    "N=20\n",
    "L1=20.\n",
    "L2=10.\n",
    "\n",
    "T1=25.\n",
    "T2=200.\n",
    "T3=650.\n",
    "T4=1000.\n",
    "\n",
    "x=np.linspace(0,L1,M)\n",
    "y=np.linspace(0,L2,N)\n",
    "dx=L1/(M-1)\n",
    "dy=L2/(N-1)\n",
    "xmesh,ymesh=np.meshgrid(x,y)\n",
    "\n",
    "A=np.zeros((M*N,M*N),np.float64)\n",
    "B=np.zeros(M*N,np.float64)\n",
    "\n",
    "for n in range(M*N):\n",
    "    i=n%M\n",
    "    j=n/M\n",
    "    if 0<i<M-1 and j==0:\n",
    "        A[n][n]=1\n",
    "        B[n]=T1\n",
    "    elif 0<i<M-1 and j==N-1:\n",
    "        A[n][n]=1\n",
    "        B[n]=T2\n",
    "    elif i==0 and 0<j<N-1:\n",
    "        A[n][n]=1\n",
    "        B[n]=T3\n",
    "    elif i==M-1 and 0<j<N-1:\n",
    "        A[n][n]=1\n",
    "        B[n]=T4\n",
    "    elif i==j==0:\n",
    "        A[n][n]=1./(dx**2)+1./dy**2\n",
    "        A[n][n+1]=-2./dx**2\n",
    "        A[n][n+2]=1./dx**2\n",
    "        A[n][n+N]=-2./dy**2\n",
    "        A[n][n+2*N]=1./dy**2\n",
    "    elif i==M-1 and j==0:\n",
    "        A[n][n]=1./(dx**2)+1./dy**2\n",
    "        A[n][n-1]=-2./dx**2\n",
    "        A[n][n-2]=1./dx**2\n",
    "        A[n][n+N]=-2./dy**2\n",
    "        A[n][n+2*N]=1./dy**2\n",
    "    elif i==M-1 and j==N-1:\n",
    "        A[n][n]=1./(dx**2)+1./dy**2\n",
    "        A[n][n-1]=-2./dx**2\n",
    "        A[n][n-2]=1./dx**2\n",
    "        A[n][n-N]=-2./dy**2\n",
    "        A[n][n-2*N]=1./dy**2\n",
    "    elif i==0 and j==N-1:\n",
    "        A[n][n]=1./(dx**2)+1./dy**2\n",
    "        A[n][n+1]=-2./dx**2\n",
    "        A[n][n+2]=1./dx**2\n",
    "        A[n][n-N]=-2./dy**2\n",
    "        A[n][n-2*N]=1./dy**2\n",
    "    elif 0<i<M-1 and 0<j<N-1:\n",
    "        A[n][n]=-2./(dx**2)-2./dy**2\n",
    "        A[n][n+1]=1./dx**2\n",
    "        A[n][n-1]=1./dx**2\n",
    "        A[n][n+N]=1./dy**2\n",
    "        A[n][n-N]=1./dy**2\n",
    "T=(np.linalg.inv(A)).dot(B)\n",
    "Tmesh=np.zeros_like(xmesh)\n",
    "\n",
    "for i in range(M):\n",
    "    for j in range(N):\n",
    "        n=i+j*N\n",
    "        Tmesh[j][i]=T[n]\n",
    "fig=plt.figure()\n",
    "ax=fig.gca(projection='3d')\n",
    "ax.plot_surface(xmesh,ymesh,Tmesh,rstride=1,cstride=1,alpha=0.3)\n",
    "ax.set_xlabel('$x$')\n",
    "ax.set_ylabel('$y$')\n",
    "ax.set_zlabel('$T(x,y)$')\n",
    "plt.show()\n"
   ]
  },
  {
   "cell_type": "code",
   "execution_count": 3,
   "metadata": {
    "collapsed": false
   },
   "outputs": [
    {
     "name": "stdout",
     "output_type": "stream",
     "text": [
      "BIEN HECHO. Sistema Estable.\n"
     ]
    }
   ],
   "source": [
    "alpha=1.\n",
    "N=10\n",
    "L=10.\n",
    "dx=L/(N-1)\n",
    "x=np.linspace(0,L,N)\n",
    "\n",
    "#dt=1.\n",
    "dt=0.5\n",
    "if dt<dx**2/(2*alpha):\n",
    "    print \"BIEN HECHO. Sistema Estable.\"\n",
    "else:\n",
    "    raise Exception(\"Sistema Inestable\"+\"\\ndt debe ser menor a \"+str(dx**2/(2*alpha)))\n",
    "t=0\n",
    "\n",
    "T0=20.\n",
    "T1=25.\n",
    "T2=200.\n",
    "\n",
    "tem=np.zeros_like(x)\n",
    "\n",
    "for i in range(N):\n",
    "    if i==0:    tem[i]=T1\n",
    "    elif i==N-1:tem[i]=T2\n",
    "    else:       tem[i]=T0\n",
    "\n",
    "T=[t]\n",
    "Tem=[tem]\n",
    "Tem2=tem.copy()\n",
    "\n",
    "while t<=30:\n",
    "    for i in range(N):\n",
    "        if i==0:     Tem2[i]=T1\n",
    "        elif i==N-1: Tem2[i]=T2\n",
    "        else:        Tem2[i]=(alpha*dt/dx**2)*tem[i+1]+(1-2*alpha*dt/dx**2)*tem[i]+\\\n",
    "                              (alpha*dt/dx**2)*tem[i-1]\n",
    "    t+=dt\n",
    "    T.append(t)\n",
    "    tem=Tem2.copy()\n",
    "    Tem.append(tem)\n",
    "    #print 't=',t,tem\n",
    "\n",
    "fig=plt.figure()\n",
    "ax=plt.subplot(111)\n",
    "def updater(j):\n",
    "        ax.clear()\n",
    "        ax.plot(x,Tem[j])\n",
    "        ax.set_ylim(0,T2)\n",
    "        ax.set_xlabel('$x$')\n",
    "        ax.set_ylabel('$T(x)$')\n",
    "        fig.suptitle('t =' +str(T[j])+'s')\n",
    "        \n",
    "ani=animation.FuncAnimation(fig,updater,range(len(T)))\n",
    "plt.show()"
   ]
  }
 ],
 "metadata": {
  "kernelspec": {
   "display_name": "Python 2",
   "language": "python",
   "name": "python2"
  },
  "language_info": {
   "codemirror_mode": {
    "name": "ipython",
    "version": 2
   },
   "file_extension": ".py",
   "mimetype": "text/x-python",
   "name": "python",
   "nbconvert_exporter": "python",
   "pygments_lexer": "ipython2",
   "version": "2.7.11"
  }
 },
 "nbformat": 4,
 "nbformat_minor": 0
}
