{
 "cells": [
  {
   "cell_type": "code",
   "execution_count": 2,
   "metadata": {
    "collapsed": true
   },
   "outputs": [],
   "source": [
    "import numpy as np\n",
    "import matplotlib.pyplot as plt"
   ]
  },
  {
   "cell_type": "code",
   "execution_count": 17,
   "metadata": {
    "collapsed": false
   },
   "outputs": [],
   "source": [
    "def sen(x,N=25):\n",
    "    return sum([(-1.)**n/np.math.factorial(2*n+1)*x**(2*n+1) for n in range(int(N))])"
   ]
  },
  {
   "cell_type": "code",
   "execution_count": 36,
   "metadata": {
    "collapsed": false
   },
   "outputs": [],
   "source": [
    "r=[]\n",
    "for i in range(181):\n",
    "    r.append([i,np.round(sen(i*np.pi/180.),12)])\n",
    "    #print \"sin(\"+str(i)+\"°)=\"+str(np.round(sen(i*np.pi/180.),12))\n",
    "plt.plot()\n",
    "plt.show()"
   ]
  },
  {
   "cell_type": "code",
   "execution_count": 37,
   "metadata": {
    "collapsed": true
   },
   "outputs": [],
   "source": [
    "def cosen(x,N=25):\n",
    "    return sum([(-1.)**n/np.math.factorial(2*n)*x**(2*n) for n in range(int(N))])"
   ]
  },
  {
   "cell_type": "code",
   "execution_count": 61,
   "metadata": {
    "collapsed": false
   },
   "outputs": [],
   "source": [
    "Pig=180\n",
    "x=np.linspace(0,5*Pig,5*Pig+1)\n",
    "y=list()\n",
    "for i in range(5*Pig+1):\n",
    "    y.append(np.round(cosen(i*np.pi/180.),12))\n",
    "    #print \"cos(\"+str(i)+\"°)=\"+str(np.round(cosen(i*np.pi/180.),12))"
   ]
  },
  {
   "cell_type": "code",
   "execution_count": 62,
   "metadata": {
    "collapsed": false
   },
   "outputs": [],
   "source": [
    "plt.plot(x,y)\n",
    "plt.show()"
   ]
  },
  {
   "cell_type": "code",
   "execution_count": 6,
   "metadata": {
    "collapsed": true
   },
   "outputs": [],
   "source": [
    "def f(x):\n",
    "    return np.sin(2*x+1)-3./5*x+1\n",
    "\n",
    "def biseccionFalsa(f,a,b,tol=1e-3):\n",
    "    c=0\n",
    "    if f(a)==0: return a\n",
    "    if f(b)==0: return b\n",
    "    while f()>tol:\n",
    "        c=raizFalsa(f,a,b)\n",
    "        if f(c)*f(b)<0:\n",
    "            a=c\n",
    "        elif f(c)*f(a)<0:\n",
    "            b=c\n",
    "    return c\n",
    "\n",
    "def raizFalsa(f,a,b):\n",
    "    return b-f(b)*(a-b)/float(f(a)-f(b))"
   ]
  },
  {
   "cell_type": "code",
   "execution_count": 8,
   "metadata": {
    "collapsed": false
   },
   "outputs": [
    {
     "name": "stdout",
     "output_type": "stream",
     "text": [
      "1.84269251076 -1.10525092171\n"
     ]
    }
   ],
   "source": [
    "print biseccionFalsa(f,-5,6,1e-9),f(1.84269251076)"
   ]
  },
  {
   "cell_type": "code",
   "execution_count": 15,
   "metadata": {
    "collapsed": false
   },
   "outputs": [
    {
     "name": "stdout",
     "output_type": "stream",
     "text": [
      "0 0.0899310498105\n",
      "1 0.520477365988\n",
      "2 0.566743670514\n",
      "3 0.56714326151\n",
      "4 0.56714329041\n",
      "5 0.56714329041\n",
      "6 0.56714329041\n",
      "7 0.56714329041\n",
      "8 0.56714329041\n",
      "9 0.56714329041\n",
      "0.56714329041\n"
     ]
    }
   ],
   "source": [
    "def f(x):\n",
    "    return np.exp(-x)-x\n",
    "def fp(x):\n",
    "    return -np.exp(-x)-1\n",
    "\n",
    "def newtonRaph(a,f,fp,n):\n",
    "    xr=float(a)\n",
    "    for i in range (n):\n",
    "        xr-=f(xr)/fp(xr)\n",
    "        print i,xr\n",
    "    return xr\n",
    "\n",
    "print newtonRaph(4,f,fp,10)"
   ]
  },
  {
   "cell_type": "code",
   "execution_count": 34,
   "metadata": {
    "collapsed": true
   },
   "outputs": [],
   "source": [
    "def f(x):\n",
    "    return np.exp(-x)-x\n",
    "def g(x):\n",
    "    return f(x)+x\n",
    "def puntoFijo(a,f,g,n=50):\n",
    "    r=float(a)\n",
    "    for i in range(n):\n",
    "        r=g(r)\n",
    "    return r"
   ]
  },
  {
   "cell_type": "code",
   "execution_count": 43,
   "metadata": {
    "collapsed": false
   },
   "outputs": [
    {
     "name": "stdout",
     "output_type": "stream",
     "text": [
      "0.56714329041 0.0\n"
     ]
    }
   ],
   "source": [
    "print puntoFijo(0.1,f,g),f(puntoFijo(0.1,f,g,70))"
   ]
  }
 ],
 "metadata": {
  "kernelspec": {
   "display_name": "Python 2",
   "language": "python",
   "name": "python2"
  },
  "language_info": {
   "codemirror_mode": {
    "name": "ipython",
    "version": 2
   },
   "file_extension": ".py",
   "mimetype": "text/x-python",
   "name": "python",
   "nbconvert_exporter": "python",
   "pygments_lexer": "ipython2",
   "version": "2.7.11"
  }
 },
 "nbformat": 4,
 "nbformat_minor": 0
}
